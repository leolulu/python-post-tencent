{
 "cells": [
  {
   "cell_type": "code",
   "execution_count": 7,
   "metadata": {},
   "outputs": [],
   "source": [
    "import requests\n",
    "import json\n",
    "import base64\n",
    "import re\n",
    "import os\n",
    "from tqdm import tqdm_notebook\n",
    "\n",
    "host = 'https://aip.baidubce.com/oauth/2.0/token?grant_type=client_credentials&client_id=0NYQV12ICQHdz7GurbrzcgEL&client_secret=VOGmWvIkYrXc5Hfx8Q4SIH504Ku0PPWU'\n",
    "url = 'https://aip.baidubce.com/rest/2.0/ocr/v1/accurate_basic?access_token=' + json.loads(requests.post(host).content)['access_token']"
   ]
  },
  {
   "cell_type": "code",
   "execution_count": 8,
   "metadata": {
    "scrolled": true
   },
   "outputs": [],
   "source": [
    "def get_ocr_reslut(image_path): \n",
    "    with open(image_path,'rb') as f:\n",
    "        img = base64.b64encode(f.read())\n",
    "        params = {\"image\": img}\n",
    "    return ''.join([i['words'] for i in json.loads(requests.post(url,data=params).content)['words_result']])"
   ]
  },
  {
   "cell_type": "code",
   "execution_count": 11,
   "metadata": {},
   "outputs": [],
   "source": [
    "folder_path = r'E:\\python\\python-post-tencent\\PDF\\吴仁华：天安门血腥清场内幕\\吴仁华：天安门血腥清场内幕'\n",
    "pic_path_list = [os.path.join(folder_path,i) for i in os.listdir(folder_path)]\n",
    "pic_path_list.sort(key=lambda x: os.path.basename(x).split('.')[0].split('_')[-1].zfill(5))\n",
    "# pic_path_list.sort(key=lambda x: os.path.basename(x).split('.')[0].replace('img','').zfill(5))"
   ]
  },
  {
   "cell_type": "code",
   "execution_count": 13,
   "metadata": {},
   "outputs": [
    {
     "data": {
      "application/vnd.jupyter.widget-view+json": {
       "model_id": "4dac01b2db4544bd9b6c1fbd67a11ab1",
       "version_major": 2,
       "version_minor": 0
      },
      "text/plain": [
       "HBox(children=(IntProgress(value=0, max=474), HTML(value='')))"
      ]
     },
     "metadata": {},
     "output_type": "display_data"
    },
    {
     "name": "stdout",
     "output_type": "stream",
     "text": [
      "\n"
     ]
    }
   ],
   "source": [
    "for pic_path in tqdm_notebook(pic_path_list):\n",
    "    with open(os.path.join(os.path.dirname(folder_path),os.path.basename(folder_path)),'a',encoding='utf-8') as f:\n",
    "        f.write(get_ocr_reslut(pic_path)+'\\n')"
   ]
  }
 ],
 "metadata": {
  "kernelspec": {
   "display_name": "Python 3",
   "language": "python",
   "name": "python3"
  },
  "language_info": {
   "codemirror_mode": {
    "name": "ipython",
    "version": 3
   },
   "file_extension": ".py",
   "mimetype": "text/x-python",
   "name": "python",
   "nbconvert_exporter": "python",
   "pygments_lexer": "ipython3",
   "version": "3.7.1"
  }
 },
 "nbformat": 4,
 "nbformat_minor": 2
}
