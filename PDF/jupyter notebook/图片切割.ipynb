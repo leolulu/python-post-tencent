{
 "cells": [
  {
   "cell_type": "code",
   "execution_count": 1,
   "metadata": {},
   "outputs": [],
   "source": [
    "from PIL import Image\n",
    "import os\n",
    "\n",
    "folder_path = r'E:\\裏\\图\\OneDrive - Office.Inc\\多模态处理文件夹\\腾讯云数据库挑战赛\\【前6章】腾讯云数据库MySQL超速入门进阶课程\\第一章-MySQL数据类型-腾讯云数据库MySQL超速入门进阶课程\\第一章-MySQL数据类型-腾讯云数据库MySQL超速入门进阶课程_image'\n",
    "pic_file_list = [os.path.join(folder_path,i) for i in os.listdir(folder_path)]"
   ]
  },
  {
   "cell_type": "code",
   "execution_count": 3,
   "metadata": {},
   "outputs": [],
   "source": [
    "for pic_path in pic_file_list:\n",
    "    img = Image.open(pic_path)\n",
    "    img = img.crop((0,225,img.size[0],img.size[1])) # [左] [上] [右(img.save[0])] [下(img.save(1))]\n",
    "    img.save(pic_path)"
   ]
  },
  {
   "cell_type": "code",
   "execution_count": null,
   "metadata": {},
   "outputs": [],
   "source": []
  },
  {
   "cell_type": "code",
   "execution_count": null,
   "metadata": {},
   "outputs": [],
   "source": []
  },
  {
   "cell_type": "code",
   "execution_count": null,
   "metadata": {},
   "outputs": [],
   "source": []
  },
  {
   "cell_type": "code",
   "execution_count": null,
   "metadata": {},
   "outputs": [],
   "source": []
  },
  {
   "cell_type": "code",
   "execution_count": null,
   "metadata": {},
   "outputs": [],
   "source": []
  }
 ],
 "metadata": {
  "kernelspec": {
   "display_name": "Python 3",
   "language": "python",
   "name": "python3"
  },
  "language_info": {
   "codemirror_mode": {
    "name": "ipython",
    "version": 3
   },
   "file_extension": ".py",
   "mimetype": "text/x-python",
   "name": "python",
   "nbconvert_exporter": "python",
   "pygments_lexer": "ipython3",
   "version": "3.7.1"
  }
 },
 "nbformat": 4,
 "nbformat_minor": 2
}
