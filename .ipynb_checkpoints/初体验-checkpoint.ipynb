{
 "cells": [
  {
   "cell_type": "markdown",
   "metadata": {},
   "source": [
    "# pygame"
   ]
  },
  {
   "cell_type": "code",
   "execution_count": null,
   "metadata": {},
   "outputs": [],
   "source": [
    "import pygame"
   ]
  },
  {
   "cell_type": "code",
   "execution_count": null,
   "metadata": {},
   "outputs": [],
   "source": [
    "pygame.init()"
   ]
  },
  {
   "cell_type": "code",
   "execution_count": null,
   "metadata": {},
   "outputs": [],
   "source": [
    "text = '''各位注意网站网址，谨防盗版网站，由于经常被一些人攻击，有时候会换域名，\n",
    "当前域名是：liuli.in\n",
    "正版神社右侧有登陆选项，没有顶部广告图片轮播，\n",
    "也不会在点开帖子上方设有广告，而盗版则是与之相反的，也没有众多投稿者，\n",
    "比如H萌、PAD长、奶茶、青龙、张大爷、天使、yozakura、默示汉化等\n",
    "只要稍微注意一下，假的网站和我们同名的文章，更新速度要比我们的慢，\n",
    "一般我们这边发布文章后，假网站会过一段时间再来复制，在更新时间上就很容易分别。\n",
    "'''"
   ]
  },
  {
   "cell_type": "code",
   "execution_count": null,
   "metadata": {},
   "outputs": [],
   "source": [
    "font = pygame.font.Font(r'E:\\python\\python-post-tencent\\Fonts\\Uygur\\HylKufi4.ttf',24)"
   ]
  },
  {
   "cell_type": "code",
   "execution_count": null,
   "metadata": {},
   "outputs": [],
   "source": [
    "surface = font.render(uygut_text,True,(0,0,0),(255,255,255))"
   ]
  },
  {
   "cell_type": "code",
   "execution_count": null,
   "metadata": {},
   "outputs": [],
   "source": [
    "pygame.image.save(surface,'./pygame.jpg')"
   ]
  },
  {
   "cell_type": "markdown",
   "metadata": {},
   "source": [
    "# Image"
   ]
  },
  {
   "cell_type": "code",
   "execution_count": 1,
   "metadata": {},
   "outputs": [],
   "source": [
    "from PIL import ImageFont,Image,ImageDraw\n",
    "\n",
    "background_img = Image.open(r\"E:\\python\\python-post-tencent\\background.png\")\n",
    "\n",
    "draw = ImageDraw.Draw(background_img)"
   ]
  },
  {
   "cell_type": "code",
   "execution_count": null,
   "metadata": {},
   "outputs": [],
   "source": [
    "font = ImageFont.truetype('./Fonts/1.ttf',24)"
   ]
  },
  {
   "cell_type": "code",
   "execution_count": null,
   "metadata": {},
   "outputs": [],
   "source": [
    "draw.text((50,50),text,fill=(255,255,255),font=font)"
   ]
  },
  {
   "cell_type": "code",
   "execution_count": null,
   "metadata": {},
   "outputs": [],
   "source": [
    "background_img.save('./result.png')"
   ]
  },
  {
   "cell_type": "markdown",
   "metadata": {},
   "source": [
    "# 维语测试"
   ]
  },
  {
   "cell_type": "code",
   "execution_count": 2,
   "metadata": {},
   "outputs": [],
   "source": [
    "import random\n",
    "import os\n",
    "from PIL import ImageFont,Image,ImageDraw\n",
    "from concurrent.futures import ThreadPoolExecutor\n",
    "import math"
   ]
  },
  {
   "cell_type": "code",
   "execution_count": 3,
   "metadata": {},
   "outputs": [],
   "source": [
    "uygut_text = '''شى جىنپىڭ ئېچىلىش مۇراسىمى سۆزىدە مۇندا\n",
    "ق كۆرسەتتى: تۇنجى نۆۋەتلىك «بىر بەلباغ، بىر يول» خەلقئارا ھەمكارلىق باشلىقلار مۇنبىرى ئۆتكۈزۈلگەن ئى\n",
    "ككى يىلدىن بۇيان، بىز ئورتاق كېڭىشىش، ئورتاق قۇرۇش، ئورتاق بەھرىمەن بولۇش پىرىنسىپى بويىچە، سىياس\n",
    "ەت جەھەتتە ئالاقىلىشىش، ئەسلىھەلەرنى تۇتاشتۇرۇش، سودىنى راۋانلاشتۇرۇش، مەبلەغنى يۈرۈشتۈرۈش، ئەل قەل\n",
    "بىنى تۇتاشتۇرۇشنى ئومۇميۈزلۈك ئىلگىرى سۈرۈپ، دۇنيا ئىقتىسادىنىڭ ئېشىشىغا يېڭى ھەرىكەتلەندۈر\n",
    "گۈچ كۈچ قوشۇپ، دۇنيا تەرەققىياتىغا يېڭى بوشلۇق ئېچىپ بەردۇق. بىز يەنە بىر قېتىم باشلىقلار مۇن\n",
    "بىرى ئۆتكۈزۈپ، ھەرقايسى تەرەپلەر بىلەن بىرلىكتە «بىر بەلباغ، بىر يول»نى ئورتاق قۇرۇشنى چوڭ\n",
    "قۇر ئەمەلىيلەشتۈرۈپ، ھەر قايسى دۆلەت خەلقىگە تېخىمۇ ياخشى بەخت يارىتىشنى ئۈمىد قىلىمىز'''"
   ]
  },
  {
   "cell_type": "code",
   "execution_count": 22,
   "metadata": {},
   "outputs": [],
   "source": [
    "uygur_font_folder = r'.\\Fonts\\Uygur'\n",
    "uygut_font_list = [os.path.join(uygur_font_folder,i) for i in os.listdir(uygur_font_folder)]\n",
    "background_image_folder = r'.\\background'\n",
    "background_image_list = [os.path.join(background_image_folder,i) for i in os.listdir(background_image_folder)]\n",
    "line_word_count_list = [80,70,60,50,40]\n",
    "\n",
    "def cutParaToFixLine(para,line_word_count):\n",
    "    para_list = []\n",
    "    for line in  para.split('\\n'):\n",
    "        for i in range(math.ceil(len(line) / line_word_count)):\n",
    "            i = (i+1) * line_word_count\n",
    "            line = line[:i] + '\\n' + line[i:]\n",
    "        para_list.append(line)\n",
    "    para = '\\n'.join(para_list)\n",
    "    return para.replace('\\n\\n','\\n')"
   ]
  },
  {
   "cell_type": "code",
   "execution_count": 26,
   "metadata": {},
   "outputs": [],
   "source": [
    "def gen_uygut_img(i,text):\n",
    "    try:\n",
    "        background_path = random.choice(background_image_list)\n",
    "        background_img = Image.open(background_path)\n",
    "        background_img_width = background_img.size[0]\n",
    "                \n",
    "        draw = ImageDraw.Draw(background_img)\n",
    "\n",
    "        font_path = random.choice(uygut_font_list)\n",
    "        line_word_count = random.choice(line_word_count_list)\n",
    "        \n",
    "        size = int(background_img_width / line_word_count * 1.5) \n",
    "    \n",
    "        text = cutParaToFixLine(text,line_word_count)\n",
    "        \n",
    "        print(background_img_width,size,line_word_count)\n",
    "        \n",
    "\n",
    "        \n",
    "        print(font_path)\n",
    "\n",
    "        try:\n",
    "            font = ImageFont.truetype(font_path,size)\n",
    "        except OSError:\n",
    "            print(font_path)\n",
    "\n",
    "        draw.text((50,100),text,fill=(0,0,0),font=font)\n",
    "\n",
    "#         background_img.save('./uygut_result/uygut_result_{}.jpg'.format(i))\n",
    "        background_img.save('./uygut_result/{}.jpg'.format(os.path.basename(font_path)))\n",
    "    except Exception as e:\n",
    "        print(e)"
   ]
  },
  {
   "cell_type": "code",
   "execution_count": 27,
   "metadata": {
    "scrolled": true
   },
   "outputs": [
    {
     "name": "stdout",
     "output_type": "stream",
     "text": [
      "1680 63 40\n",
      ".\\Fonts\\Uygur\\BlgNshB.ttf\n",
      "2633152015201366 45 50\n",
      ".\\Fonts\\Uygur\\ElpUniTuz.ttf\n",
      " 57 40\n",
      ".\\Fonts\\Uygur\\UUSUNJelliy.ttf\n",
      " 34  75360 14 80\n",
      ".\\Fonts\\Uygur\\Uighur5.ttf\n",
      "\n",
      "98 40\n",
      ".\\Fonts\\Uygur\\UKIJInichke.ttf\n",
      ".\\Fonts\\Uygur\\ALKATIP Kitab Tom.TTF\n",
      "3264 81 60\n",
      ".\\Fonts\\Uygur\\U-Kitab.ttf\n",
      "19201680 57 50\n",
      ".\\Fonts\\Uygur\\TZA3.TTF\n",
      " 50 168050\n",
      ".\\Fonts\\Uygur\\UUSUNArial4Bold.ttf\n",
      " 63 40\n",
      ".\\Fonts\\Uygur\\U-Ruqqi-b.ttf\n",
      "3264 69 70\n",
      ".\\Fonts\\Uygur\\UUSUNCaption.ttf\n",
      "1366 75329  70\n",
      ".\\Fonts\\Uygur\\AlpsoftRuqqiTom.ttf\n",
      "22 50\n",
      ".\\Fonts\\Uygur\\ElpUniTuz1.ttf\n",
      "1920 41 70\n",
      ".\\Fonts\\Uygur\\UyTuzUni.ttf\n",
      "1500 32 70\n",
      ".\\Fonts\\Uygur\\Asir Aslia.ttf\n",
      "2633 49 80\n",
      ".\\Fonts\\Uygur\\UKIJMejn.ttf\n",
      "7532048  51 60\n",
      ".\\Fonts\\Uygur\\UKIJKuU.ttf\n",
      "14 1680 63 40\n",
      "26331680 36 70\n",
      ".\\Fonts\\Uygur\\Q tuz 1.ttf\n",
      " 49 80\n",
      ".\\Fonts\\Uygur\\UKIJTuz.ttf\n",
      "80\n",
      ".\\Fonts\\Uygur\\UKIJSls_1.ttf753 16 70\n",
      ".\\Fonts\\Uygur\\U-Basma-b.ttf\n",
      "\n",
      ".\\Fonts\\Uygur\\AlpsoftBasma-b.ttf\n",
      "2048 76 40\n",
      ".\\Fonts\\Uygur\\ALKATIP Kitab Tom.TTF\n",
      "2048 38 80\n",
      ".\\Fonts\\Uygur\\ALKATIP Yazma.TTF\n",
      "2633 78 1680 36 70\n",
      ".\\Fonts\\Uygur\\AlpsoftNesq.ttf\n",
      "50\n",
      "1920.\\Fonts\\Uygur\\UKIJTzTr_1.ttf\n",
      " 41 70\n",
      ".\\Fonts\\Uygur\\UKIJEsQ_1.ttf\n",
      "2633 65 60\n",
      ".\\Fonts\\Uygur\\UUSUNCaption.ttf\n",
      "1520 32 70\n",
      ".\\Fonts\\Uygur\\UUSUNArial4Bold.ttf\n",
      "4500 96 70\n",
      ".\\Fonts\\Uygur\\UUSUNNasxi1Bold.ttf\n"
     ]
    }
   ],
   "source": [
    "with ThreadPoolExecutor(16) as exe:\n",
    "    for i in range(30):\n",
    "        exe.submit(gen_uygut_img,i,uygut_text)"
   ]
  },
  {
   "cell_type": "code",
   "execution_count": null,
   "metadata": {},
   "outputs": [],
   "source": []
  },
  {
   "cell_type": "code",
   "execution_count": null,
   "metadata": {},
   "outputs": [],
   "source": []
  },
  {
   "cell_type": "code",
   "execution_count": null,
   "metadata": {},
   "outputs": [],
   "source": []
  },
  {
   "cell_type": "code",
   "execution_count": null,
   "metadata": {},
   "outputs": [],
   "source": []
  },
  {
   "cell_type": "code",
   "execution_count": 58,
   "metadata": {},
   "outputs": [],
   "source": []
  },
  {
   "cell_type": "code",
   "execution_count": null,
   "metadata": {},
   "outputs": [],
   "source": []
  },
  {
   "cell_type": "code",
   "execution_count": null,
   "metadata": {},
   "outputs": [],
   "source": []
  },
  {
   "cell_type": "code",
   "execution_count": null,
   "metadata": {},
   "outputs": [],
   "source": []
  },
  {
   "cell_type": "code",
   "execution_count": null,
   "metadata": {},
   "outputs": [],
   "source": []
  }
 ],
 "metadata": {
  "kernelspec": {
   "display_name": "Python 3",
   "language": "python",
   "name": "python3"
  },
  "language_info": {
   "codemirror_mode": {
    "name": "ipython",
    "version": 3
   },
   "file_extension": ".py",
   "mimetype": "text/x-python",
   "name": "python",
   "nbconvert_exporter": "python",
   "pygments_lexer": "ipython3",
   "version": "3.7.1"
  }
 },
 "nbformat": 4,
 "nbformat_minor": 2
}
